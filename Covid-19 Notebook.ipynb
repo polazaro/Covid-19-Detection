{
 "cells": [
  {
   "cell_type": "markdown",
   "metadata": {},
   "source": [
    "# Covid-19 Detection"
   ]
  },
  {
   "cell_type": "markdown",
   "metadata": {},
   "source": [
    "## Pablo Lázaro Herrasti and Rubén Barco Terrones"
   ]
  },
  {
   "cell_type": "markdown",
   "metadata": {},
   "source": [
    "### Import"
   ]
  },
  {
   "cell_type": "code",
   "execution_count": 100,
   "metadata": {},
   "outputs": [],
   "source": [
    "import pandas as pd\n",
    "import os\n",
    "import numpy as np\n",
    "import tensorflow as tf\n",
    "from tensorflow.keras.preprocessing import image\n",
    "from sklearn.model_selection import train_test_split\n",
    "from sklearn.metrics import accuracy_score\n",
    "from sklearn.metrics import confusion_matrix\n",
    "from tensorflow.keras.preprocessing import image\n",
    "from tensorflow.keras import models\n",
    "from tensorflow.keras import layers\n",
    "from tensorflow.keras import optimizers\n",
    "from tensorflow.keras import applications\n",
    "from tensorflow.keras.optimizers import Adam\n",
    "from tensorflow.keras.models import Sequential, Model \n",
    "from tensorflow.keras.layers import Dropout, Flatten, Dense, GlobalAveragePooling2D,Conv2D,MaxPooling2D,BatchNormalization\n",
    "from tensorflow.keras import backend as k \n",
    "from tensorflow.keras.callbacks import ModelCheckpoint, LearningRateScheduler, TensorBoard, EarlyStopping"
   ]
  },
  {
   "cell_type": "markdown",
   "metadata": {},
   "source": [
    "#### Directories"
   ]
  },
  {
   "cell_type": "code",
   "execution_count": 101,
   "metadata": {},
   "outputs": [],
   "source": [
    "dir_covid = 'D:/Covid-19 Data/COVID-19 Radiography Database/'\n",
    "dir_covid_images_train = dir_covid + 'COVID-19_TRAIN/'\n",
    "#dir_covid_images_train = dir_covid + 'COVID-19_TRAIN_AUG/'\n",
    "dir_covid_images_test = dir_covid + 'COVID-19_TEST/'\n",
    "dir_covid_images_val = dir_covid + 'COVID-19_VAL/'\n",
    "dir_normal_images = dir_covid + 'NORMAL/'\n",
    "dir_pneumonia_images = dir_covid + 'Viral Pneumonia/'\n",
    "all_dir_images = [dir_normal_images, dir_pneumonia_images]\n",
    "dir_covid_metadata = dir_covid + 'COVID-19.metadata.xlsx'\n",
    "dir_normal_metadata = dir_covid + 'NORMAL.metadata.xlsx'\n",
    "dir_pneumonia_metadata = dir_covid + 'Viral Pneumonia.matadata.xlsx'"
   ]
  },
  {
   "cell_type": "markdown",
   "metadata": {},
   "source": [
    "#### Reading and preprocessing data"
   ]
  },
  {
   "cell_type": "code",
   "execution_count": 102,
   "metadata": {},
   "outputs": [],
   "source": [
    "# metadata_covid = pd.read_excel(dir_covid_metadata)\n",
    "# metadata_covid['label'] = 0\n",
    "metadata_normal = pd.read_excel(dir_normal_metadata)\n",
    "metadata_normal['label'] = 1\n",
    "metadata_pneumonia = pd.read_excel(dir_pneumonia_metadata)\n",
    "metadata_pneumonia['label'] = 2\n",
    "metadata_all = {dir_normal_images:metadata_normal, dir_pneumonia_images:metadata_pneumonia}"
   ]
  },
  {
   "cell_type": "markdown",
   "metadata": {},
   "source": [
    "#### Data augmentation"
   ]
  },
  {
   "cell_type": "code",
   "execution_count": 98,
   "metadata": {},
   "outputs": [
    {
     "name": "stdout",
     "output_type": "stream",
     "text": [
      "Initialised with 153 image(s) found.\n",
      "Output directory set to D:/Covid-19 Data/COVID-19 Radiography Database/COVID-19_TRAIN/output."
     ]
    }
   ],
   "source": [
    "import Augmentor\n",
    "p = Augmentor.Pipeline(dir_covid_images_train)"
   ]
  },
  {
   "cell_type": "code",
   "execution_count": 99,
   "metadata": {},
   "outputs": [
    {
     "name": "stderr",
     "output_type": "stream",
     "text": [
      "Processing <PIL.Image.Image image mode=RGB size=1024x1024 at 0x1EE1203D0F0>: 100%|██████████| 616/616 [00:48<00:00, 12.78 Samples/s]                \n",
      "Processing <PIL.Image.Image image mode=RGB size=1024x1024 at 0x1EE1200F3C8>: 100%|██████████| 153/153 [00:11<00:00, 12.80 Samples/s]                \n"
     ]
    }
   ],
   "source": [
    "p.rotate(probability=0.7, max_left_rotation=15, max_right_rotation=15)\n",
    "p.flip_left_right(probability=0.7)\n",
    "p.sample(len(os.listdir(dir_covid_images_train))*4)\n",
    "p.process()"
   ]
  },
  {
   "cell_type": "code",
   "execution_count": 103,
   "metadata": {
    "scrolled": true
   },
   "outputs": [],
   "source": [
    "#Reading Image data and converting it into pixels and separating class labels\n",
    "Data=[]\n",
    "Label=[]\n",
    "\n",
    "for dir_images in all_dir_images:\n",
    "    files = os.listdir(dir_images)\n",
    "    for index, row in metadata_all[dir_images].iterrows():\n",
    "        Label.append(row['label'])\n",
    "        filename=os.path.join(dir_images, files[index])\n",
    "        im=image.load_img(filename,target_size=(224, 224))\n",
    "        im=np.reshape(im,(224,224,3))\n",
    "        im=im.astype('float32') / 255\n",
    "        Data.append(im)"
   ]
  },
  {
   "cell_type": "code",
   "execution_count": 104,
   "metadata": {},
   "outputs": [],
   "source": [
    "#Train Test Split\n",
    "X_train, X_1, y_train, y_1 = train_test_split(np.array(Data), np.array(Label), test_size=0.3, random_state=42,stratify=Label)\n",
    "\n",
    "#Train Test Split\n",
    "X_cv, X_test, y_cv, y_test = train_test_split(X_1, y_1, test_size=0.5, random_state=42,stratify=y_1)"
   ]
  },
  {
   "cell_type": "code",
   "execution_count": 106,
   "metadata": {},
   "outputs": [],
   "source": [
    "# For data augmentation COVID with label 0\n",
    "\n",
    "Data=[]\n",
    "Label=[]\n",
    "\n",
    "files = os.listdir(dir_covid_images_train)\n",
    "for file in files:\n",
    "    Label.append(0)\n",
    "    filename=os.path.join(dir_covid_images_train, file)\n",
    "    im=image.load_img(filename,target_size=(224, 224))\n",
    "    im=np.reshape(im,(224,224,3))\n",
    "    im=im.astype('float32') / 255\n",
    "    Data.append(im)\n",
    "\n",
    "y_train = np.array(list(y_train) + Label)\n",
    "X_train = np.array(list(X_train) + Data)\n",
    "\n",
    "Data=[]\n",
    "Label=[]\n",
    "files = os.listdir(dir_covid_images_val)\n",
    "for file in files:\n",
    "    Label.append(0)\n",
    "    filename=os.path.join(dir_covid_images_val, file)\n",
    "    im=image.load_img(filename,target_size=(224, 224))\n",
    "    im=np.reshape(im,(224,224,3))\n",
    "    im=im.astype('float32') / 255\n",
    "    Data.append(im)\n",
    "\n",
    "y_cv = np.array(list(y_cv) + Label)\n",
    "X_cv = np.array(list(X_cv) + Data)\n",
    "\n",
    "Data=[]\n",
    "Label=[]\n",
    "files = os.listdir(dir_covid_images_test)\n",
    "for file in files:\n",
    "    Label.append(0)\n",
    "    filename=os.path.join(dir_covid_images_test, file)\n",
    "    im=image.load_img(filename,target_size=(224, 224))\n",
    "    im=np.reshape(im,(224,224,3))\n",
    "    im=im.astype('float32') / 255\n",
    "    Data.append(im)\n",
    "\n",
    "y_test = np.array(list(y_test) + Label)\n",
    "X_test = np.array(list(X_test) + Data)"
   ]
  },
  {
   "cell_type": "code",
   "execution_count": 107,
   "metadata": {},
   "outputs": [],
   "source": [
    "img_width=224\n",
    "img_height=224\n",
    "\n",
    "from keras import backend as K\n",
    "\n",
    "if K.image_data_format() == 'channels_first':\n",
    "    input_shape = (3, img_width, img_height)\n",
    "    X_train=X_train.reshape(X_train.shape[0],3,img_width,img_height)\n",
    "    X_cv=X_cv.reshape(X_cv.shape[0],3,img_width,img_height)\n",
    "    X_test=X_test.reshape(X_test.shape[0],3,img_width,img_height)\n",
    "    \n",
    "else:\n",
    "    input_shape = (img_width, img_height, 3)\n",
    "    X_train=X_train.reshape(X_train.shape[0],img_width,img_height,3)\n",
    "    X_cv=X_cv.reshape(X_cv.shape[0],img_width,img_height,3)\n",
    "    X_test=X_test.reshape(X_test.shape[0],img_width,img_height,3)\n",
    "    \n",
    "del Data"
   ]
  },
  {
   "cell_type": "code",
   "execution_count": 110,
   "metadata": {},
   "outputs": [
    {
     "data": {
      "text/plain": [
       "436"
      ]
     },
     "execution_count": 110,
     "metadata": {},
     "output_type": "execute_result"
    }
   ],
   "source": [
    "len(X_cv)"
   ]
  },
  {
   "cell_type": "markdown",
   "metadata": {},
   "source": [
    "#### Architecture for binary classification"
   ]
  },
  {
   "cell_type": "code",
   "execution_count": 87,
   "metadata": {},
   "outputs": [
    {
     "name": "stdout",
     "output_type": "stream",
     "text": [
      "_________________________________________________________________\n",
      "Layer (type)                 Output Shape              Param #   \n",
      "=================================================================\n",
      "conv2d_15 (Conv2D)           (None, 224, 224, 32)      896       \n",
      "_________________________________________________________________\n",
      "max_pooling2d_15 (MaxPooling (None, 112, 112, 32)      0         \n",
      "_________________________________________________________________\n",
      "conv2d_16 (Conv2D)           (None, 112, 112, 64)      18496     \n",
      "_________________________________________________________________\n",
      "max_pooling2d_16 (MaxPooling (None, 56, 56, 64)        0         \n",
      "_________________________________________________________________\n",
      "conv2d_17 (Conv2D)           (None, 56, 56, 128)       73856     \n",
      "_________________________________________________________________\n",
      "max_pooling2d_17 (MaxPooling (None, 28, 28, 128)       0         \n",
      "_________________________________________________________________\n",
      "flatten_5 (Flatten)          (None, 100352)            0         \n",
      "_________________________________________________________________\n",
      "dense_10 (Dense)             (None, 64)                6422592   \n",
      "_________________________________________________________________\n",
      "dropout_5 (Dropout)          (None, 64)                0         \n",
      "_________________________________________________________________\n",
      "dense_11 (Dense)             (None, 3)                 195       \n",
      "=================================================================\n",
      "Total params: 6,516,035\n",
      "Trainable params: 6,516,035\n",
      "Non-trainable params: 0\n",
      "_________________________________________________________________\n"
     ]
    }
   ],
   "source": [
    "model=Sequential()\n",
    "model.add(Conv2D(32, 3, input_shape=input_shape, activation='relu', padding='same'))\n",
    "model.add(MaxPooling2D(2))\n",
    "model.add(Conv2D(64, 3, activation='relu', padding='same'))\n",
    "model.add(MaxPooling2D(2))\n",
    "model.add(Conv2D(128, 3, activation='relu', padding='same'))\n",
    "model.add(MaxPooling2D(2))\n",
    "model.add(Flatten())\n",
    "model.add(Dense(64, activation='relu'))\n",
    "model.add(Dropout(0.3))\n",
    "model.add(Dense(3, activation='softmax'))\n",
    "model.compile(optimizer='adam', loss='sparse_categorical_crossentropy', metrics=['acc'])\n",
    "model.summary()"
   ]
  },
  {
   "cell_type": "markdown",
   "metadata": {},
   "source": [
    "#### Training model"
   ]
  },
  {
   "cell_type": "code",
   "execution_count": 88,
   "metadata": {},
   "outputs": [
    {
     "name": "stdout",
     "output_type": "stream",
     "text": [
      "Train on 2533 samples, validate on 543 samples\n",
      "Epoch 1/3\n",
      "2533/2533 [==============================] - ETA: 2:25 - loss: 1.0759 - acc: 0.468 - ETA: 2:19 - loss: 4.0800 - acc: 0.406 - ETA: 2:14 - loss: 3.5875 - acc: 0.437 - ETA: 2:11 - loss: 3.0427 - acc: 0.453 - ETA: 2:08 - loss: 2.6639 - acc: 0.431 - ETA: 2:05 - loss: 2.4058 - acc: 0.406 - ETA: 2:03 - loss: 2.2086 - acc: 0.410 - ETA: 2:02 - loss: 2.0680 - acc: 0.410 - ETA: 1:59 - loss: 1.9516 - acc: 0.416 - ETA: 1:58 - loss: 1.8465 - acc: 0.431 - ETA: 1:56 - loss: 1.7592 - acc: 0.460 - ETA: 1:55 - loss: 1.6980 - acc: 0.460 - ETA: 1:54 - loss: 1.6364 - acc: 0.454 - ETA: 1:52 - loss: 1.5749 - acc: 0.466 - ETA: 1:51 - loss: 1.5529 - acc: 0.460 - ETA: 1:49 - loss: 1.5112 - acc: 0.466 - ETA: 1:47 - loss: 1.4709 - acc: 0.479 - ETA: 1:46 - loss: 1.4285 - acc: 0.496 - ETA: 1:44 - loss: 1.3908 - acc: 0.506 - ETA: 1:43 - loss: 1.3467 - acc: 0.523 - ETA: 1:41 - loss: 1.3110 - acc: 0.534 - ETA: 1:39 - loss: 1.2890 - acc: 0.539 - ETA: 1:38 - loss: 1.2542 - acc: 0.550 - ETA: 1:36 - loss: 1.2281 - acc: 0.561 - ETA: 1:34 - loss: 1.2023 - acc: 0.567 - ETA: 1:32 - loss: 1.1703 - acc: 0.579 - ETA: 1:30 - loss: 1.1384 - acc: 0.591 - ETA: 1:29 - loss: 1.1207 - acc: 0.598 - ETA: 1:27 - loss: 1.0936 - acc: 0.605 - ETA: 1:26 - loss: 1.0678 - acc: 0.617 - ETA: 1:24 - loss: 1.0505 - acc: 0.624 - ETA: 1:23 - loss: 1.0336 - acc: 0.629 - ETA: 1:22 - loss: 1.0095 - acc: 0.638 - ETA: 1:20 - loss: 0.9896 - acc: 0.644 - ETA: 1:19 - loss: 0.9746 - acc: 0.649 - ETA: 1:17 - loss: 0.9595 - acc: 0.652 - ETA: 1:15 - loss: 0.9438 - acc: 0.658 - ETA: 1:13 - loss: 0.9272 - acc: 0.664 - ETA: 1:12 - loss: 0.9243 - acc: 0.663 - ETA: 1:10 - loss: 0.9085 - acc: 0.668 - ETA: 1:08 - loss: 0.8955 - acc: 0.673 - ETA: 1:06 - loss: 0.8838 - acc: 0.677 - ETA: 1:04 - loss: 0.8799 - acc: 0.678 - ETA: 1:02 - loss: 0.8710 - acc: 0.681 - ETA: 1:00 - loss: 0.8647 - acc: 0.682 - ETA: 59s - loss: 0.8528 - acc: 0.687 - ETA: 57s - loss: 0.8443 - acc: 0.68 - ETA: 55s - loss: 0.8330 - acc: 0.69 - ETA: 54s - loss: 0.8286 - acc: 0.69 - ETA: 52s - loss: 0.8161 - acc: 0.70 - ETA: 50s - loss: 0.8069 - acc: 0.70 - ETA: 48s - loss: 0.7986 - acc: 0.70 - ETA: 46s - loss: 0.7900 - acc: 0.71 - ETA: 45s - loss: 0.7818 - acc: 0.71 - ETA: 43s - loss: 0.7808 - acc: 0.71 - ETA: 41s - loss: 0.7724 - acc: 0.71 - ETA: 39s - loss: 0.7624 - acc: 0.72 - ETA: 38s - loss: 0.7534 - acc: 0.72 - ETA: 36s - loss: 0.7503 - acc: 0.72 - ETA: 34s - loss: 0.7413 - acc: 0.72 - ETA: 32s - loss: 0.7359 - acc: 0.73 - ETA: 30s - loss: 0.7265 - acc: 0.73 - ETA: 29s - loss: 0.7166 - acc: 0.73 - ETA: 27s - loss: 0.7110 - acc: 0.74 - ETA: 25s - loss: 0.7025 - acc: 0.74 - ETA: 23s - loss: 0.6985 - acc: 0.74 - ETA: 21s - loss: 0.6903 - acc: 0.74 - ETA: 20s - loss: 0.6856 - acc: 0.75 - ETA: 18s - loss: 0.6793 - acc: 0.75 - ETA: 16s - loss: 0.6734 - acc: 0.75 - ETA: 14s - loss: 0.6686 - acc: 0.75 - ETA: 12s - loss: 0.6680 - acc: 0.75 - ETA: 11s - loss: 0.6641 - acc: 0.75 - ETA: 9s - loss: 0.6619 - acc: 0.7610 - ETA: 7s - loss: 0.6613 - acc: 0.760 - ETA: 5s - loss: 0.6596 - acc: 0.760 - ETA: 3s - loss: 0.6547 - acc: 0.763 - ETA: 2s - loss: 0.6513 - acc: 0.764 - ETA: 0s - loss: 0.6482 - acc: 0.765 - 152s 60ms/sample - loss: 0.6475 - acc: 0.7659 - val_loss: 0.3481 - val_acc: 0.8785\n",
      "Epoch 2/3\n",
      "2533/2533 [==============================] - ETA: 2:12 - loss: 0.2963 - acc: 0.906 - ETA: 2:11 - loss: 0.3121 - acc: 0.906 - ETA: 2:09 - loss: 0.3981 - acc: 0.864 - ETA: 2:08 - loss: 0.3693 - acc: 0.875 - ETA: 2:06 - loss: 0.3692 - acc: 0.862 - ETA: 2:05 - loss: 0.3368 - acc: 0.880 - ETA: 2:05 - loss: 0.3176 - acc: 0.892 - ETA: 2:03 - loss: 0.3130 - acc: 0.890 - ETA: 2:01 - loss: 0.3172 - acc: 0.888 - ETA: 1:59 - loss: 0.3042 - acc: 0.893 - ETA: 1:58 - loss: 0.3155 - acc: 0.892 - ETA: 1:56 - loss: 0.3024 - acc: 0.898 - ETA: 1:54 - loss: 0.2847 - acc: 0.906 - ETA: 1:52 - loss: 0.2981 - acc: 0.897 - ETA: 1:51 - loss: 0.2965 - acc: 0.897 - ETA: 1:49 - loss: 0.2965 - acc: 0.896 - ETA: 1:48 - loss: 0.2917 - acc: 0.900 - ETA: 1:46 - loss: 0.2984 - acc: 0.902 - ETA: 1:44 - loss: 0.2888 - acc: 0.907 - ETA: 1:42 - loss: 0.2779 - acc: 0.910 - ETA: 1:40 - loss: 0.2755 - acc: 0.913 - ETA: 1:38 - loss: 0.2744 - acc: 0.913 - ETA: 1:37 - loss: 0.2646 - acc: 0.917 - ETA: 1:35 - loss: 0.2651 - acc: 0.914 - ETA: 1:34 - loss: 0.2590 - acc: 0.916 - ETA: 1:32 - loss: 0.2543 - acc: 0.917 - ETA: 1:31 - loss: 0.2466 - acc: 0.920 - ETA: 1:29 - loss: 0.2416 - acc: 0.920 - ETA: 1:27 - loss: 0.2350 - acc: 0.922 - ETA: 1:26 - loss: 0.2326 - acc: 0.922 - ETA: 1:24 - loss: 0.2311 - acc: 0.922 - ETA: 1:22 - loss: 0.2283 - acc: 0.922 - ETA: 1:21 - loss: 0.2283 - acc: 0.922 - ETA: 1:19 - loss: 0.2268 - acc: 0.922 - ETA: 1:18 - loss: 0.2229 - acc: 0.925 - ETA: 1:16 - loss: 0.2381 - acc: 0.923 - ETA: 1:14 - loss: 0.2342 - acc: 0.924 - ETA: 1:12 - loss: 0.2317 - acc: 0.923 - ETA: 1:11 - loss: 0.2326 - acc: 0.922 - ETA: 1:09 - loss: 0.2352 - acc: 0.922 - ETA: 1:07 - loss: 0.2328 - acc: 0.923 - ETA: 1:05 - loss: 0.2305 - acc: 0.923 - ETA: 1:03 - loss: 0.2277 - acc: 0.923 - ETA: 1:02 - loss: 0.2275 - acc: 0.924 - ETA: 1:00 - loss: 0.2296 - acc: 0.922 - ETA: 58s - loss: 0.2286 - acc: 0.922 - ETA: 56s - loss: 0.2294 - acc: 0.92 - ETA: 55s - loss: 0.2280 - acc: 0.92 - ETA: 53s - loss: 0.2254 - acc: 0.92 - ETA: 51s - loss: 0.2250 - acc: 0.92 - ETA: 49s - loss: 0.2245 - acc: 0.92 - ETA: 48s - loss: 0.2270 - acc: 0.92 - ETA: 46s - loss: 0.2257 - acc: 0.92 - ETA: 44s - loss: 0.2249 - acc: 0.92 - ETA: 42s - loss: 0.2250 - acc: 0.92 - ETA: 40s - loss: 0.2238 - acc: 0.92 - ETA: 39s - loss: 0.2224 - acc: 0.92 - ETA: 37s - loss: 0.2218 - acc: 0.92 - ETA: 35s - loss: 0.2224 - acc: 0.92 - ETA: 34s - loss: 0.2230 - acc: 0.92 - ETA: 32s - loss: 0.2244 - acc: 0.92 - ETA: 31s - loss: 0.2232 - acc: 0.92 - ETA: 29s - loss: 0.2244 - acc: 0.92 - ETA: 28s - loss: 0.2220 - acc: 0.92 - ETA: 26s - loss: 0.2210 - acc: 0.92 - ETA: 24s - loss: 0.2197 - acc: 0.92 - ETA: 22s - loss: 0.2207 - acc: 0.92 - ETA: 21s - loss: 0.2195 - acc: 0.92 - ETA: 19s - loss: 0.2181 - acc: 0.92 - ETA: 17s - loss: 0.2173 - acc: 0.92 - ETA: 15s - loss: 0.2145 - acc: 0.92 - ETA: 13s - loss: 0.2158 - acc: 0.92 - ETA: 12s - loss: 0.2164 - acc: 0.92 - ETA: 10s - loss: 0.2144 - acc: 0.92 - ETA: 8s - loss: 0.2128 - acc: 0.9225 - ETA: 6s - loss: 0.2106 - acc: 0.923 - ETA: 4s - loss: 0.2096 - acc: 0.922 - ETA: 2s - loss: 0.2078 - acc: 0.923 - ETA: 0s - loss: 0.2057 - acc: 0.924 - 184s 73ms/sample - loss: 0.2053 - acc: 0.9246 - val_loss: 0.1519 - val_acc: 0.9448\n",
      "Epoch 3/3\n"
     ]
    },
    {
     "name": "stdout",
     "output_type": "stream",
     "text": [
      "2533/2533 [==============================] - ETA: 3:14 - loss: 0.1502 - acc: 0.906 - ETA: 3:16 - loss: 0.1265 - acc: 0.921 - ETA: 3:11 - loss: 0.1216 - acc: 0.937 - ETA: 3:08 - loss: 0.1011 - acc: 0.953 - ETA: 3:04 - loss: 0.1087 - acc: 0.950 - ETA: 3:00 - loss: 0.0960 - acc: 0.958 - ETA: 2:58 - loss: 0.1092 - acc: 0.950 - ETA: 2:56 - loss: 0.1141 - acc: 0.941 - ETA: 2:54 - loss: 0.1130 - acc: 0.941 - ETA: 2:50 - loss: 0.1137 - acc: 0.943 - ETA: 2:47 - loss: 0.1180 - acc: 0.946 - ETA: 2:44 - loss: 0.1167 - acc: 0.950 - ETA: 2:41 - loss: 0.1130 - acc: 0.954 - ETA: 2:38 - loss: 0.1090 - acc: 0.955 - ETA: 2:38 - loss: 0.1046 - acc: 0.958 - ETA: 2:35 - loss: 0.1094 - acc: 0.957 - ETA: 2:32 - loss: 0.1129 - acc: 0.952 - ETA: 2:29 - loss: 0.1143 - acc: 0.951 - ETA: 2:26 - loss: 0.1235 - acc: 0.949 - ETA: 2:23 - loss: 0.1391 - acc: 0.946 - ETA: 2:21 - loss: 0.1332 - acc: 0.949 - ETA: 2:19 - loss: 0.1386 - acc: 0.950 - ETA: 2:17 - loss: 0.1362 - acc: 0.951 - ETA: 2:15 - loss: 0.1368 - acc: 0.949 - ETA: 2:12 - loss: 0.1371 - acc: 0.948 - ETA: 2:10 - loss: 0.1372 - acc: 0.948 - ETA: 2:07 - loss: 0.1390 - acc: 0.946 - ETA: 2:05 - loss: 0.1369 - acc: 0.948 - ETA: 2:03 - loss: 0.1422 - acc: 0.947 - ETA: 2:00 - loss: 0.1420 - acc: 0.949 - ETA: 1:58 - loss: 0.1443 - acc: 0.948 - ETA: 1:56 - loss: 0.1428 - acc: 0.950 - ETA: 1:53 - loss: 0.1415 - acc: 0.950 - ETA: 1:51 - loss: 0.1408 - acc: 0.951 - ETA: 1:48 - loss: 0.1408 - acc: 0.950 - ETA: 1:44 - loss: 0.1399 - acc: 0.951 - ETA: 1:42 - loss: 0.1385 - acc: 0.951 - ETA: 1:40 - loss: 0.1420 - acc: 0.950 - ETA: 1:38 - loss: 0.1425 - acc: 0.950 - ETA: 1:35 - loss: 0.1400 - acc: 0.951 - ETA: 1:33 - loss: 0.1404 - acc: 0.951 - ETA: 1:30 - loss: 0.1402 - acc: 0.950 - ETA: 1:28 - loss: 0.1413 - acc: 0.948 - ETA: 1:25 - loss: 0.1423 - acc: 0.948 - ETA: 1:23 - loss: 0.1422 - acc: 0.948 - ETA: 1:20 - loss: 0.1442 - acc: 0.948 - ETA: 1:18 - loss: 0.1517 - acc: 0.946 - ETA: 1:15 - loss: 0.1500 - acc: 0.947 - ETA: 1:13 - loss: 0.1483 - acc: 0.948 - ETA: 1:10 - loss: 0.1544 - acc: 0.947 - ETA: 1:08 - loss: 0.1521 - acc: 0.948 - ETA: 1:05 - loss: 0.1497 - acc: 0.949 - ETA: 1:03 - loss: 0.1507 - acc: 0.949 - ETA: 1:00 - loss: 0.1506 - acc: 0.949 - ETA: 58s - loss: 0.1524 - acc: 0.947 - ETA: 55s - loss: 0.1518 - acc: 0.94 - ETA: 53s - loss: 0.1502 - acc: 0.94 - ETA: 50s - loss: 0.1493 - acc: 0.94 - ETA: 47s - loss: 0.1483 - acc: 0.94 - ETA: 45s - loss: 0.1492 - acc: 0.94 - ETA: 42s - loss: 0.1503 - acc: 0.94 - ETA: 40s - loss: 0.1492 - acc: 0.94 - ETA: 37s - loss: 0.1497 - acc: 0.94 - ETA: 35s - loss: 0.1515 - acc: 0.94 - ETA: 32s - loss: 0.1521 - acc: 0.94 - ETA: 30s - loss: 0.1516 - acc: 0.94 - ETA: 27s - loss: 0.1518 - acc: 0.94 - ETA: 25s - loss: 0.1520 - acc: 0.94 - ETA: 23s - loss: 0.1510 - acc: 0.94 - ETA: 20s - loss: 0.1519 - acc: 0.94 - ETA: 18s - loss: 0.1504 - acc: 0.94 - ETA: 16s - loss: 0.1507 - acc: 0.94 - ETA: 13s - loss: 0.1493 - acc: 0.94 - ETA: 11s - loss: 0.1477 - acc: 0.94 - ETA: 9s - loss: 0.1495 - acc: 0.9483 - ETA: 7s - loss: 0.1497 - acc: 0.947 - ETA: 4s - loss: 0.1500 - acc: 0.947 - ETA: 2s - loss: 0.1497 - acc: 0.947 - ETA: 0s - loss: 0.1491 - acc: 0.948 - 193s 76ms/sample - loss: 0.1492 - acc: 0.9479 - val_loss: 0.1153 - val_acc: 0.9613\n"
     ]
    },
    {
     "data": {
      "text/plain": [
       "<tensorflow.python.keras.callbacks.History at 0x1ee11c52fd0>"
      ]
     },
     "execution_count": 88,
     "metadata": {},
     "output_type": "execute_result"
    }
   ],
   "source": [
    "n_epochs = 3\n",
    "batch_size = 32\n",
    "model.fit(x=X_train, y=y_train, batch_size=batch_size, epochs=n_epochs, validation_data=(X_cv,y_cv), shuffle=True)"
   ]
  },
  {
   "cell_type": "code",
   "execution_count": 93,
   "metadata": {},
   "outputs": [],
   "source": [
    "model.save('C:/Users/polaz/Documents/Covid 19 Detection/Models/model_covid_2.h5')"
   ]
  },
  {
   "cell_type": "markdown",
   "metadata": {},
   "source": [
    "### General accuracy"
   ]
  },
  {
   "cell_type": "markdown",
   "metadata": {},
   "source": [
    "##### Multiclass prediction"
   ]
  },
  {
   "cell_type": "code",
   "execution_count": 89,
   "metadata": {},
   "outputs": [
    {
     "name": "stdout",
     "output_type": "stream",
     "text": [
      "The final train accuracy is  97.35491512041058 %\n",
      "The final validation accuracy is  96.13259668508287 %\n",
      "The final test accuracy is  96.35416666666666 %\n"
     ]
    }
   ],
   "source": [
    "train_acc = accuracy_score(model.predict_classes(X_train), y_train)\n",
    "valid_acc = accuracy_score(model.predict_classes(X_cv), y_cv)\n",
    "test_acc = accuracy_score(model.predict_classes(X_test), y_test)\n",
    "print(\"The final train accuracy is \",train_acc*100,\"%\")\n",
    "print(\"The final validation accuracy is \",valid_acc*100,\"%\")\n",
    "print(\"The final test accuracy is \",test_acc*100,\"%\")"
   ]
  },
  {
   "cell_type": "markdown",
   "metadata": {},
   "source": [
    "##### Binary prediction"
   ]
  },
  {
   "cell_type": "code",
   "execution_count": null,
   "metadata": {},
   "outputs": [],
   "source": [
    "train_acc = accuracy_score((model.predict(X_train)>0.5).astype(int), y_train)\n",
    "valid_acc = accuracy_score((model.predict(X_cv)>0.5).astype(int), y_cv)\n",
    "test_acc = accuracy_score((model.predict(X_test)>0.5).astype(int), y_test)\n",
    "print(\"The final train accuracy is \",train_acc*100,\"%\")\n",
    "print(\"The final validation accuracy is \",valid_acc*100,\"%\")\n",
    "print(\"The final test accuracy is \",test_acc*100,\"%\")"
   ]
  },
  {
   "cell_type": "markdown",
   "metadata": {},
   "source": [
    "#### Covid accuracy"
   ]
  },
  {
   "cell_type": "code",
   "execution_count": 90,
   "metadata": {},
   "outputs": [
    {
     "name": "stdout",
     "output_type": "stream",
     "text": [
      "The final test accuracy for COVID-19 is  95.37572254335261 %\n"
     ]
    }
   ],
   "source": [
    "X_covid = X_test[y_test == 0]\n",
    "y_covid = y_test[y_test == 0]\n",
    "test_acc = accuracy_score(model.predict_classes(X_covid), y_covid)\n",
    "print(\"The final test accuracy for COVID-19 is \",test_acc*100,\"%\")"
   ]
  },
  {
   "cell_type": "code",
   "execution_count": 95,
   "metadata": {},
   "outputs": [
    {
     "data": {
      "text/plain": [
       "576"
      ]
     },
     "execution_count": 95,
     "metadata": {},
     "output_type": "execute_result"
    }
   ],
   "source": [
    "len(y_test)"
   ]
  },
  {
   "cell_type": "code",
   "execution_count": 91,
   "metadata": {},
   "outputs": [
    {
     "name": "stdout",
     "output_type": "stream",
     "text": [
      "The final test accuracy for NORMAL is  99.00497512437812 %\n"
     ]
    }
   ],
   "source": [
    "X_normal = X_test[y_test == 1]\n",
    "y_normal = y_test[y_test == 1]\n",
    "test_acc = accuracy_score(model.predict_classes(X_normal), y_normal)\n",
    "print(\"The final test accuracy for NORMAL is \",test_acc*100,\"%\")"
   ]
  },
  {
   "cell_type": "code",
   "execution_count": 92,
   "metadata": {},
   "outputs": [
    {
     "name": "stdout",
     "output_type": "stream",
     "text": [
      "The final test accuracy for PNEUMONIA is  94.55445544554455 %\n"
     ]
    }
   ],
   "source": [
    "X_pneumonia = X_test[y_test == 2]\n",
    "y_pneumonia = y_test[y_test == 2]\n",
    "test_acc = accuracy_score(model.predict_classes(X_pneumonia), y_pneumonia)\n",
    "print(\"The final test accuracy for PNEUMONIA is \",test_acc*100,\"%\")"
   ]
  },
  {
   "cell_type": "markdown",
   "metadata": {},
   "source": [
    "#### Reading other database to test"
   ]
  },
  {
   "cell_type": "code",
   "execution_count": 79,
   "metadata": {},
   "outputs": [],
   "source": [
    "dir_data_extra = dir_covid + '/Extra COVID-19'"
   ]
  },
  {
   "cell_type": "code",
   "execution_count": 87,
   "metadata": {},
   "outputs": [],
   "source": [
    "#Reading Image data and converting it into pixels and separating class labels\n",
    "Data_ext=[]\n",
    "Label_ext=[]\n",
    "images = os.listdir(dir_data_extra)\n",
    "for imag in images:\n",
    "    Label_ext.append(0)\n",
    "    filename=os.path.join(dir_data_extra, imag)\n",
    "    im=image.load_img(filename,target_size=(224, 224))\n",
    "    im=np.reshape(im,(224,224,3))\n",
    "    im=im.astype('float32') / 255\n",
    "    Data_ext.append(im)\n",
    "    \n",
    "Data_ext = np.array(Data_ext)\n",
    "Label_ext = np.array(Label_ext)"
   ]
  },
  {
   "cell_type": "code",
   "execution_count": 88,
   "metadata": {},
   "outputs": [],
   "source": [
    "img_width=224\n",
    "img_height=224\n",
    "\n",
    "from keras import backend as K\n",
    "\n",
    "if K.image_data_format() == 'channels_first':\n",
    "    input_shape = (3, img_width, img_height)\n",
    "    X_extra=Data_ext.reshape(Data_ext.shape[0],3,img_width,img_height)\n",
    "    \n",
    "else:\n",
    "    input_shape = (img_width, img_height, 3)\n",
    "    X_extra=Data_ext.reshape(Data_ext.shape[0],img_width,img_height,3)\n",
    "\n",
    "y_extra = Label_ext\n",
    "del Data_ext"
   ]
  },
  {
   "cell_type": "code",
   "execution_count": 89,
   "metadata": {},
   "outputs": [
    {
     "name": "stdout",
     "output_type": "stream",
     "text": [
      "The final test accuracy for COVID-19 is  90.47619047619048 %\n"
     ]
    }
   ],
   "source": [
    "test_acc = accuracy_score(model.predict_classes(X_extra), y_extra)\n",
    "print(\"The final test accuracy for COVID-19 is \",test_acc*100,\"%\")"
   ]
  },
  {
   "cell_type": "code",
   "execution_count": null,
   "metadata": {},
   "outputs": [],
   "source": []
  }
 ],
 "metadata": {
  "kernelspec": {
   "display_name": "Python 3",
   "language": "python",
   "name": "python3"
  },
  "language_info": {
   "codemirror_mode": {
    "name": "ipython",
    "version": 3
   },
   "file_extension": ".py",
   "mimetype": "text/x-python",
   "name": "python",
   "nbconvert_exporter": "python",
   "pygments_lexer": "ipython3",
   "version": "3.6.7"
  }
 },
 "nbformat": 4,
 "nbformat_minor": 2
}
