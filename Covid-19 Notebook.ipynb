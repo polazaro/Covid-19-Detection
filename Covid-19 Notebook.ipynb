{
 "cells": [
  {
   "cell_type": "markdown",
   "metadata": {},
   "source": [
    "# Covid-19 Detection"
   ]
  },
  {
   "cell_type": "markdown",
   "metadata": {},
   "source": [
    "## Pablo Lázaro Herrasti and Rubén Barco Terrones"
   ]
  },
  {
   "cell_type": "markdown",
   "metadata": {},
   "source": [
    "### Import"
   ]
  },
  {
   "cell_type": "code",
   "execution_count": 1,
   "metadata": {},
   "outputs": [],
   "source": [
    "import pandas as pd\n",
    "import os\n",
    "import numpy as np\n",
    "import tensorflow as tf\n",
    "from tensorflow.keras.preprocessing import image\n",
    "from sklearn.model_selection import train_test_split\n",
    "from sklearn.metrics import accuracy_score\n",
    "from sklearn.metrics import confusion_matrix\n",
    "from tensorflow.keras.preprocessing import image\n",
    "from tensorflow.keras import models\n",
    "from tensorflow.keras import layers\n",
    "from tensorflow.keras import optimizers\n",
    "from tensorflow.keras import applications\n",
    "from tensorflow.keras.optimizers import Adam\n",
    "from tensorflow.keras.models import Sequential, Model \n",
    "from tensorflow.keras.layers import Dropout, Flatten, Dense, GlobalAveragePooling2D,Conv2D,MaxPooling2D,BatchNormalization\n",
    "from tensorflow.keras import backend as k \n",
    "from tensorflow.keras.callbacks import ModelCheckpoint, LearningRateScheduler, TensorBoard, EarlyStopping"
   ]
  },
  {
   "cell_type": "markdown",
   "metadata": {},
   "source": [
    "#### Directories"
   ]
  },
  {
   "cell_type": "code",
   "execution_count": 35,
   "metadata": {},
   "outputs": [],
   "source": [
    "dir_covid = 'D:/Covid-19 Data/COVID-19 Radiography Database/'\n",
    "dir_covid_images = dir_covid + 'COVID-19/'\n",
    "dir_covidaug_images = dir_covid + 'COVID_AUG/'\n",
    "dir_normal_images = dir_covid + 'NORMAL/'\n",
    "dir_pneumonia_images = dir_covid + 'Viral Pneumonia/'\n",
    "all_dir_images = [dir_normal_images, dir_covid_images, dir_pneumonia_images]\n",
    "dir_covid_metadata = dir_covid + 'COVID-19.metadata.xlsx'\n",
    "dir_normal_metadata = dir_covid + 'NORMAL.metadata.xlsx'\n",
    "dir_pneumonia_metadata = dir_covid + 'Viral Pneumonia.matadata.xlsx'"
   ]
  },
  {
   "cell_type": "markdown",
   "metadata": {},
   "source": [
    "#### Data augmentation"
   ]
  },
  {
   "cell_type": "code",
   "execution_count": 32,
   "metadata": {},
   "outputs": [
    {
     "name": "stdout",
     "output_type": "stream",
     "text": [
      "Initialised with 219 image(s) found.\n",
      "Output directory set to D:/Covid-19 Data/COVID-19 Radiography Database/COVID-19/output."
     ]
    }
   ],
   "source": [
    "# import Augmentor\n",
    "# p = Augmentor.Pipeline(dir_covid_images)"
   ]
  },
  {
   "cell_type": "code",
   "execution_count": 33,
   "metadata": {},
   "outputs": [
    {
     "name": "stderr",
     "output_type": "stream",
     "text": [
      "Processing <PIL.PngImagePlugin.PngImageFile image mode=RGB size=1024x1024 at 0x1689540BEF0>: 100%|██████████| 438/438 [00:30<00:00, 14.29 Samples/s]\n",
      "Processing <PIL.Image.Image image mode=RGB size=1024x1024 at 0x168955163C8>: 100%|██████████| 219/219 [00:15<00:00, 14.45 Samples/s]                \n"
     ]
    }
   ],
   "source": [
    "# p.rotate(probability=0.7, max_left_rotation=15, max_right_rotation=15)\n",
    "# p.sample(len(metadata_covid)*2)\n",
    "# p.process()"
   ]
  },
  {
   "cell_type": "markdown",
   "metadata": {},
   "source": [
    "#### Reading and preprocessing data"
   ]
  },
  {
   "cell_type": "code",
   "execution_count": 36,
   "metadata": {},
   "outputs": [],
   "source": [
    "metadata_covid = pd.read_excel(dir_covid_metadata)\n",
    "metadata_covid['label'] = 0\n",
    "metadata_normal = pd.read_excel(dir_normal_metadata)\n",
    "metadata_normal['label'] = 1\n",
    "metadata_pneumonia = pd.read_excel(dir_pneumonia_metadata)\n",
    "metadata_pneumonia['label'] = 2\n",
    "metadata_all = {dir_covid_images:metadata_covid, dir_normal_images:metadata_normal, dir_pneumonia_images:metadata_pneumonia}"
   ]
  },
  {
   "cell_type": "code",
   "execution_count": 39,
   "metadata": {
    "scrolled": true
   },
   "outputs": [],
   "source": [
    "#Reading Image data and converting it into pixels and separating class labels\n",
    "Data=[]\n",
    "Label=[]\n",
    "directory='D:/Data_Master/Deep Learning/ChestXRay2017/All'\n",
    "\n",
    "for dir_images in all_dir_images:\n",
    "    files = os.listdir(dir_images)\n",
    "    for index, row in metadata_all[dir_images].iterrows():\n",
    "        Label.append(row['label'])\n",
    "        filename=os.path.join(dir_images, files[index])\n",
    "        im=image.load_img(filename,target_size=(224, 224))\n",
    "        im=np.reshape(im,(224,224,3))\n",
    "        im=im.astype('float32') / 255\n",
    "        Data.append(im)  "
   ]
  },
  {
   "cell_type": "code",
   "execution_count": 40,
   "metadata": {},
   "outputs": [],
   "source": [
    "#Train Test Split\n",
    "X_train, X_1, y_train, y_1 = train_test_split(np.array(Data), np.array(Label), test_size=0.3, random_state=42,stratify=Label)\n",
    "\n",
    "#Train Test Split\n",
    "X_cv, X_test, y_cv, y_test = train_test_split(X_1, y_1, test_size=0.5, random_state=42,stratify=y_1)"
   ]
  },
  {
   "cell_type": "code",
   "execution_count": 49,
   "metadata": {},
   "outputs": [],
   "source": [
    "# For data augmentation COVID with label 0\n",
    "Data=[]\n",
    "Label=[]\n",
    "files = os.listdir(dir_covidaug_images)\n",
    "for file in files:\n",
    "    Label.append(0)\n",
    "    filename=os.path.join(dir_covidaug_images, file)\n",
    "    im=image.load_img(filename,target_size=(224, 224))\n",
    "    im=np.reshape(im,(224,224,3))\n",
    "    im=im.astype('float32') / 255\n",
    "    Data.append(im)\n",
    "\n",
    "y_train = np.array(list(y_train) + Label)\n",
    "X_train = np.array(list(X_train) + Data)"
   ]
  },
  {
   "cell_type": "code",
   "execution_count": 51,
   "metadata": {},
   "outputs": [],
   "source": [
    "img_width=224\n",
    "img_height=224\n",
    "\n",
    "from keras import backend as K\n",
    "\n",
    "if K.image_data_format() == 'channels_first':\n",
    "    input_shape = (3, img_width, img_height)\n",
    "    X_train=X_train.reshape(X_train.shape[0],3,img_width,img_height)\n",
    "    X_cv=X_cv.reshape(X_cv.shape[0],3,img_width,img_height)\n",
    "    X_test=X_test.reshape(X_test.shape[0],3,img_width,img_height)\n",
    "    \n",
    "else:\n",
    "    input_shape = (img_width, img_height, 3)\n",
    "    X_train=X_train.reshape(X_train.shape[0],img_width,img_height,3)\n",
    "    X_cv=X_cv.reshape(X_cv.shape[0],img_width,img_height,3)\n",
    "    X_test=X_test.reshape(X_test.shape[0],img_width,img_height,3)\n",
    "    \n",
    "del Data"
   ]
  },
  {
   "cell_type": "markdown",
   "metadata": {},
   "source": [
    "#### Architecture for binary classification"
   ]
  },
  {
   "cell_type": "code",
   "execution_count": null,
   "metadata": {},
   "outputs": [],
   "source": [
    "model=Sequential()\n",
    "model.add(Conv2D(32, 3, input_shape=input_shape, activation='relu', padding='same'))\n",
    "model.add(MaxPooling2D(2))\n",
    "model.add(Conv2D(64, 3, activation='relu', padding='same'))\n",
    "model.add(MaxPooling2D(2))\n",
    "model.add(Conv2D(128, 3, activation='relu', padding='same'))\n",
    "model.add(MaxPooling2D(2))\n",
    "model.add(Flatten())\n",
    "model.add(Dense(64, activation='relu'))\n",
    "model.add(Dropout(0.3))\n",
    "model.add(Dense(3, activation='softmax'))\n",
    "model.compile(optimizer='adam', loss='sparse_categorical_crossentropy', metrics=['acc'])\n",
    "model.summary()"
   ]
  },
  {
   "cell_type": "markdown",
   "metadata": {},
   "source": [
    "#### Training model"
   ]
  },
  {
   "cell_type": "code",
   "execution_count": 63,
   "metadata": {},
   "outputs": [
    {
     "name": "stdout",
     "output_type": "stream",
     "text": [
      "Train on 2690 samples, validate on 436 samples\n",
      "Epoch 1/3\n",
      "2690/2690 [==============================] - ETA: 3:03 - loss: 1.1077 - acc: 0.250 - ETA: 2:50 - loss: 1.1584 - acc: 0.265 - ETA: 2:44 - loss: 1.1454 - acc: 0.291 - ETA: 2:41 - loss: 1.1153 - acc: 0.351 - ETA: 2:37 - loss: 1.1173 - acc: 0.343 - ETA: 2:35 - loss: 1.1113 - acc: 0.354 - ETA: 2:32 - loss: 1.1063 - acc: 0.357 - ETA: 2:30 - loss: 1.0954 - acc: 0.363 - ETA: 2:29 - loss: 1.0955 - acc: 0.354 - ETA: 2:27 - loss: 1.0839 - acc: 0.384 - ETA: 2:25 - loss: 1.0750 - acc: 0.400 - ETA: 2:24 - loss: 1.0589 - acc: 0.421 - ETA: 2:22 - loss: 1.0439 - acc: 0.437 - ETA: 2:20 - loss: 1.0198 - acc: 0.464 - ETA: 2:18 - loss: 0.9920 - acc: 0.487 - ETA: 2:16 - loss: 0.9685 - acc: 0.503 - ETA: 2:15 - loss: 0.9583 - acc: 0.505 - ETA: 2:12 - loss: 0.9379 - acc: 0.517 - ETA: 2:10 - loss: 0.9167 - acc: 0.529 - ETA: 2:08 - loss: 0.8910 - acc: 0.550 - ETA: 2:06 - loss: 0.8689 - acc: 0.564 - ETA: 2:04 - loss: 0.8445 - acc: 0.578 - ETA: 2:02 - loss: 0.8257 - acc: 0.589 - ETA: 2:00 - loss: 0.8137 - acc: 0.599 - ETA: 1:59 - loss: 0.7943 - acc: 0.611 - ETA: 1:57 - loss: 0.7839 - acc: 0.620 - ETA: 1:55 - loss: 0.7778 - acc: 0.627 - ETA: 1:53 - loss: 0.7667 - acc: 0.637 - ETA: 1:51 - loss: 0.7528 - acc: 0.645 - ETA: 1:49 - loss: 0.7445 - acc: 0.651 - ETA: 1:47 - loss: 0.7297 - acc: 0.658 - ETA: 1:45 - loss: 0.7236 - acc: 0.662 - ETA: 1:43 - loss: 0.7107 - acc: 0.670 - ETA: 1:42 - loss: 0.7046 - acc: 0.672 - ETA: 1:40 - loss: 0.6919 - acc: 0.680 - ETA: 1:38 - loss: 0.6866 - acc: 0.685 - ETA: 1:36 - loss: 0.6776 - acc: 0.689 - ETA: 1:34 - loss: 0.6668 - acc: 0.695 - ETA: 1:31 - loss: 0.6653 - acc: 0.698 - ETA: 1:30 - loss: 0.6556 - acc: 0.704 - ETA: 1:27 - loss: 0.6551 - acc: 0.705 - ETA: 1:25 - loss: 0.6543 - acc: 0.705 - ETA: 1:23 - loss: 0.6432 - acc: 0.711 - ETA: 1:21 - loss: 0.6388 - acc: 0.715 - ETA: 1:19 - loss: 0.6295 - acc: 0.720 - ETA: 1:17 - loss: 0.6231 - acc: 0.724 - ETA: 1:15 - loss: 0.6198 - acc: 0.725 - ETA: 1:13 - loss: 0.6151 - acc: 0.728 - ETA: 1:11 - loss: 0.6120 - acc: 0.730 - ETA: 1:09 - loss: 0.6080 - acc: 0.733 - ETA: 1:07 - loss: 0.6036 - acc: 0.734 - ETA: 1:05 - loss: 0.5975 - acc: 0.737 - ETA: 1:03 - loss: 0.5963 - acc: 0.737 - ETA: 1:01 - loss: 0.5955 - acc: 0.737 - ETA: 59s - loss: 0.5924 - acc: 0.738 - ETA: 57s - loss: 0.5869 - acc: 0.74 - ETA: 55s - loss: 0.5873 - acc: 0.74 - ETA: 53s - loss: 0.5858 - acc: 0.74 - ETA: 51s - loss: 0.5801 - acc: 0.74 - ETA: 49s - loss: 0.5823 - acc: 0.74 - ETA: 47s - loss: 0.5790 - acc: 0.74 - ETA: 45s - loss: 0.5754 - acc: 0.74 - ETA: 43s - loss: 0.5721 - acc: 0.75 - ETA: 41s - loss: 0.5696 - acc: 0.75 - ETA: 39s - loss: 0.5661 - acc: 0.75 - ETA: 37s - loss: 0.5601 - acc: 0.75 - ETA: 35s - loss: 0.5539 - acc: 0.76 - ETA: 32s - loss: 0.5482 - acc: 0.76 - ETA: 30s - loss: 0.5456 - acc: 0.76 - ETA: 28s - loss: 0.5410 - acc: 0.76 - ETA: 26s - loss: 0.5407 - acc: 0.76 - ETA: 24s - loss: 0.5390 - acc: 0.76 - ETA: 22s - loss: 0.5342 - acc: 0.76 - ETA: 20s - loss: 0.5313 - acc: 0.76 - ETA: 18s - loss: 0.5304 - acc: 0.77 - ETA: 16s - loss: 0.5257 - acc: 0.77 - ETA: 14s - loss: 0.5224 - acc: 0.77 - ETA: 12s - loss: 0.5198 - acc: 0.77 - ETA: 10s - loss: 0.5175 - acc: 0.77 - ETA: 8s - loss: 0.5165 - acc: 0.7781 - ETA: 6s - loss: 0.5172 - acc: 0.778 - ETA: 4s - loss: 0.5143 - acc: 0.781 - ETA: 2s - loss: 0.5119 - acc: 0.782 - ETA: 0s - loss: 0.5084 - acc: 0.784 - 183s 68ms/sample - loss: 0.5081 - acc: 0.7848 - val_loss: 0.2851 - val_acc: 0.8807\n",
      "Epoch 2/3\n",
      "2690/2690 [==============================] - ETA: 2:52 - loss: 0.3009 - acc: 0.906 - ETA: 2:51 - loss: 0.2320 - acc: 0.921 - ETA: 2:48 - loss: 0.2227 - acc: 0.927 - ETA: 2:46 - loss: 0.2014 - acc: 0.937 - ETA: 2:46 - loss: 0.2405 - acc: 0.925 - ETA: 2:44 - loss: 0.2457 - acc: 0.921 - ETA: 2:41 - loss: 0.2591 - acc: 0.910 - ETA: 2:39 - loss: 0.2455 - acc: 0.918 - ETA: 2:37 - loss: 0.2695 - acc: 0.913 - ETA: 2:34 - loss: 0.2625 - acc: 0.915 - ETA: 2:32 - loss: 0.2656 - acc: 0.909 - ETA: 2:31 - loss: 0.2697 - acc: 0.901 - ETA: 2:29 - loss: 0.2718 - acc: 0.899 - ETA: 2:27 - loss: 0.2673 - acc: 0.899 - ETA: 2:25 - loss: 0.2724 - acc: 0.897 - ETA: 2:22 - loss: 0.2737 - acc: 0.896 - ETA: 2:20 - loss: 0.2731 - acc: 0.897 - ETA: 2:18 - loss: 0.2715 - acc: 0.897 - ETA: 2:16 - loss: 0.2676 - acc: 0.899 - ETA: 2:14 - loss: 0.2620 - acc: 0.903 - ETA: 2:12 - loss: 0.2685 - acc: 0.903 - ETA: 2:10 - loss: 0.2596 - acc: 0.907 - ETA: 2:07 - loss: 0.2630 - acc: 0.906 - ETA: 2:05 - loss: 0.2604 - acc: 0.906 - ETA: 2:03 - loss: 0.2581 - acc: 0.905 - ETA: 2:01 - loss: 0.2555 - acc: 0.905 - ETA: 1:59 - loss: 0.2569 - acc: 0.903 - ETA: 1:57 - loss: 0.2719 - acc: 0.899 - ETA: 1:55 - loss: 0.2760 - acc: 0.897 - ETA: 1:53 - loss: 0.2717 - acc: 0.899 - ETA: 1:51 - loss: 0.2670 - acc: 0.901 - ETA: 1:49 - loss: 0.2645 - acc: 0.900 - ETA: 1:47 - loss: 0.2631 - acc: 0.899 - ETA: 1:45 - loss: 0.2608 - acc: 0.899 - ETA: 1:43 - loss: 0.2596 - acc: 0.901 - ETA: 1:41 - loss: 0.2613 - acc: 0.901 - ETA: 1:38 - loss: 0.2610 - acc: 0.902 - ETA: 1:36 - loss: 0.2606 - acc: 0.902 - ETA: 1:34 - loss: 0.2582 - acc: 0.903 - ETA: 1:32 - loss: 0.2559 - acc: 0.904 - ETA: 1:30 - loss: 0.2552 - acc: 0.905 - ETA: 1:28 - loss: 0.2547 - acc: 0.905 - ETA: 1:26 - loss: 0.2545 - acc: 0.906 - ETA: 1:24 - loss: 0.2551 - acc: 0.906 - ETA: 1:22 - loss: 0.2527 - acc: 0.906 - ETA: 1:19 - loss: 0.2498 - acc: 0.908 - ETA: 1:17 - loss: 0.2508 - acc: 0.908 - ETA: 1:15 - loss: 0.2500 - acc: 0.909 - ETA: 1:13 - loss: 0.2474 - acc: 0.910 - ETA: 1:11 - loss: 0.2492 - acc: 0.910 - ETA: 1:09 - loss: 0.2460 - acc: 0.911 - ETA: 1:07 - loss: 0.2456 - acc: 0.912 - ETA: 1:05 - loss: 0.2434 - acc: 0.912 - ETA: 1:02 - loss: 0.2420 - acc: 0.913 - ETA: 1:00 - loss: 0.2394 - acc: 0.914 - ETA: 58s - loss: 0.2369 - acc: 0.915 - ETA: 56s - loss: 0.2354 - acc: 0.91 - ETA: 54s - loss: 0.2394 - acc: 0.91 - ETA: 52s - loss: 0.2419 - acc: 0.91 - ETA: 50s - loss: 0.2426 - acc: 0.91 - ETA: 48s - loss: 0.2412 - acc: 0.91 - ETA: 46s - loss: 0.2398 - acc: 0.91 - ETA: 44s - loss: 0.2394 - acc: 0.91 - ETA: 42s - loss: 0.2407 - acc: 0.91 - ETA: 39s - loss: 0.2383 - acc: 0.91 - ETA: 37s - loss: 0.2449 - acc: 0.91 - ETA: 35s - loss: 0.2424 - acc: 0.91 - ETA: 33s - loss: 0.2399 - acc: 0.91 - ETA: 31s - loss: 0.2395 - acc: 0.91 - ETA: 29s - loss: 0.2392 - acc: 0.91 - ETA: 27s - loss: 0.2380 - acc: 0.91 - ETA: 25s - loss: 0.2359 - acc: 0.91 - ETA: 23s - loss: 0.2347 - acc: 0.91 - ETA: 21s - loss: 0.2340 - acc: 0.91 - ETA: 18s - loss: 0.2376 - acc: 0.91 - ETA: 16s - loss: 0.2378 - acc: 0.91 - ETA: 14s - loss: 0.2371 - acc: 0.91 - ETA: 12s - loss: 0.2408 - acc: 0.91 - ETA: 10s - loss: 0.2397 - acc: 0.91 - ETA: 8s - loss: 0.2388 - acc: 0.9164 - ETA: 6s - loss: 0.2365 - acc: 0.917 - ETA: 4s - loss: 0.2348 - acc: 0.918 - ETA: 2s - loss: 0.2342 - acc: 0.918 - ETA: 0s - loss: 0.2335 - acc: 0.918 - 187s 69ms/sample - loss: 0.2334 - acc: 0.9190 - val_loss: 0.1810 - val_acc: 0.9312\n",
      "Epoch 3/3\n"
     ]
    },
    {
     "name": "stdout",
     "output_type": "stream",
     "text": [
      "2690/2690 [==============================] - ETA: 2:53 - loss: 0.2268 - acc: 0.937 - ETA: 2:50 - loss: 0.2209 - acc: 0.906 - ETA: 2:48 - loss: 0.1695 - acc: 0.937 - ETA: 2:46 - loss: 0.1828 - acc: 0.937 - ETA: 2:44 - loss: 0.1883 - acc: 0.943 - ETA: 2:42 - loss: 0.1786 - acc: 0.942 - ETA: 2:41 - loss: 0.1963 - acc: 0.942 - ETA: 2:39 - loss: 0.2051 - acc: 0.941 - ETA: 2:37 - loss: 0.1921 - acc: 0.947 - ETA: 2:35 - loss: 0.1891 - acc: 0.946 - ETA: 2:32 - loss: 0.2054 - acc: 0.943 - ETA: 2:30 - loss: 0.1993 - acc: 0.942 - ETA: 2:28 - loss: 0.1918 - acc: 0.947 - ETA: 2:26 - loss: 0.1975 - acc: 0.944 - ETA: 2:24 - loss: 0.1884 - acc: 0.945 - ETA: 2:22 - loss: 0.1802 - acc: 0.947 - ETA: 2:20 - loss: 0.1734 - acc: 0.948 - ETA: 2:18 - loss: 0.1731 - acc: 0.946 - ETA: 2:16 - loss: 0.1689 - acc: 0.947 - ETA: 2:13 - loss: 0.1709 - acc: 0.946 - ETA: 2:11 - loss: 0.1729 - acc: 0.947 - ETA: 2:09 - loss: 0.1668 - acc: 0.950 - ETA: 2:07 - loss: 0.1627 - acc: 0.952 - ETA: 2:05 - loss: 0.1590 - acc: 0.953 - ETA: 2:03 - loss: 0.1556 - acc: 0.955 - ETA: 2:01 - loss: 0.1525 - acc: 0.956 - ETA: 1:59 - loss: 0.1540 - acc: 0.954 - ETA: 1:57 - loss: 0.1555 - acc: 0.953 - ETA: 1:55 - loss: 0.1531 - acc: 0.953 - ETA: 1:53 - loss: 0.1643 - acc: 0.952 - ETA: 1:51 - loss: 0.1600 - acc: 0.953 - ETA: 1:48 - loss: 0.1585 - acc: 0.954 - ETA: 1:46 - loss: 0.1608 - acc: 0.951 - ETA: 1:44 - loss: 0.1593 - acc: 0.952 - ETA: 1:42 - loss: 0.1572 - acc: 0.953 - ETA: 1:40 - loss: 0.1561 - acc: 0.954 - ETA: 1:38 - loss: 0.1565 - acc: 0.952 - ETA: 1:36 - loss: 0.1588 - acc: 0.952 - ETA: 1:34 - loss: 0.1573 - acc: 0.953 - ETA: 1:32 - loss: 0.1567 - acc: 0.953 - ETA: 1:30 - loss: 0.1563 - acc: 0.952 - ETA: 1:27 - loss: 0.1599 - acc: 0.950 - ETA: 1:25 - loss: 0.1624 - acc: 0.949 - ETA: 1:23 - loss: 0.1644 - acc: 0.947 - ETA: 1:21 - loss: 0.1687 - acc: 0.945 - ETA: 1:19 - loss: 0.1704 - acc: 0.945 - ETA: 1:17 - loss: 0.1724 - acc: 0.944 - ETA: 1:15 - loss: 0.1742 - acc: 0.943 - ETA: 1:13 - loss: 0.1740 - acc: 0.943 - ETA: 1:11 - loss: 0.1739 - acc: 0.943 - ETA: 1:09 - loss: 0.1724 - acc: 0.944 - ETA: 1:07 - loss: 0.1700 - acc: 0.945 - ETA: 1:04 - loss: 0.1689 - acc: 0.945 - ETA: 1:02 - loss: 0.1681 - acc: 0.946 - ETA: 1:00 - loss: 0.1745 - acc: 0.944 - ETA: 58s - loss: 0.1731 - acc: 0.945 - ETA: 56s - loss: 0.1720 - acc: 0.94 - ETA: 54s - loss: 0.1712 - acc: 0.94 - ETA: 52s - loss: 0.1714 - acc: 0.94 - ETA: 50s - loss: 0.1713 - acc: 0.94 - ETA: 48s - loss: 0.1705 - acc: 0.94 - ETA: 46s - loss: 0.1688 - acc: 0.94 - ETA: 44s - loss: 0.1677 - acc: 0.94 - ETA: 41s - loss: 0.1675 - acc: 0.94 - ETA: 39s - loss: 0.1664 - acc: 0.94 - ETA: 37s - loss: 0.1656 - acc: 0.94 - ETA: 35s - loss: 0.1639 - acc: 0.94 - ETA: 33s - loss: 0.1635 - acc: 0.94 - ETA: 31s - loss: 0.1632 - acc: 0.94 - ETA: 29s - loss: 0.1630 - acc: 0.94 - ETA: 27s - loss: 0.1620 - acc: 0.94 - ETA: 25s - loss: 0.1631 - acc: 0.94 - ETA: 23s - loss: 0.1624 - acc: 0.94 - ETA: 21s - loss: 0.1614 - acc: 0.94 - ETA: 19s - loss: 0.1607 - acc: 0.94 - ETA: 16s - loss: 0.1611 - acc: 0.94 - ETA: 14s - loss: 0.1595 - acc: 0.94 - ETA: 12s - loss: 0.1580 - acc: 0.94 - ETA: 10s - loss: 0.1565 - acc: 0.94 - ETA: 8s - loss: 0.1563 - acc: 0.9496 - ETA: 6s - loss: 0.1556 - acc: 0.949 - ETA: 4s - loss: 0.1556 - acc: 0.950 - ETA: 2s - loss: 0.1557 - acc: 0.949 - ETA: 0s - loss: 0.1594 - acc: 0.948 - 187s 69ms/sample - loss: 0.1593 - acc: 0.9487 - val_loss: 4.4394 - val_acc: 0.1927\n"
     ]
    },
    {
     "data": {
      "text/plain": [
       "<tensorflow.python.keras.callbacks.History at 0x1689433e278>"
      ]
     },
     "execution_count": 63,
     "metadata": {},
     "output_type": "execute_result"
    }
   ],
   "source": [
    "n_epochs = 3\n",
    "batch_size = 32\n",
    "model.fit(x=X_train, y=y_train, batch_size=batch_size, epochs=n_epochs, validation_data=(X_cv,y_cv), shuffle=True)"
   ]
  },
  {
   "cell_type": "code",
   "execution_count": 57,
   "metadata": {},
   "outputs": [],
   "source": [
    "model.save('C:/Users/polaz/Documents/Covid 19 Detection/Models/model_covid_2.h5')"
   ]
  },
  {
   "cell_type": "markdown",
   "metadata": {},
   "source": [
    "### General accuracy"
   ]
  },
  {
   "cell_type": "markdown",
   "metadata": {},
   "source": [
    "##### Multiclass prediction"
   ]
  },
  {
   "cell_type": "code",
   "execution_count": 65,
   "metadata": {},
   "outputs": [
    {
     "ename": "KeyboardInterrupt",
     "evalue": "",
     "output_type": "error",
     "traceback": [
      "\u001b[1;31m---------------------------------------------------------------------------\u001b[0m",
      "\u001b[1;31mKeyboardInterrupt\u001b[0m                         Traceback (most recent call last)",
      "\u001b[1;32m<ipython-input-65-978d98a8abb7>\u001b[0m in \u001b[0;36m<module>\u001b[1;34m\u001b[0m\n\u001b[1;32m----> 1\u001b[1;33m \u001b[0mtrain_acc\u001b[0m \u001b[1;33m=\u001b[0m \u001b[0maccuracy_score\u001b[0m\u001b[1;33m(\u001b[0m\u001b[0mmodel\u001b[0m\u001b[1;33m.\u001b[0m\u001b[0mpredict_classes\u001b[0m\u001b[1;33m(\u001b[0m\u001b[0mX_train\u001b[0m\u001b[1;33m)\u001b[0m\u001b[1;33m,\u001b[0m \u001b[0my_train\u001b[0m\u001b[1;33m)\u001b[0m\u001b[1;33m\u001b[0m\u001b[1;33m\u001b[0m\u001b[0m\n\u001b[0m\u001b[0;32m      2\u001b[0m \u001b[0mvalid_acc\u001b[0m \u001b[1;33m=\u001b[0m \u001b[0maccuracy_score\u001b[0m\u001b[1;33m(\u001b[0m\u001b[0mmodel\u001b[0m\u001b[1;33m.\u001b[0m\u001b[0mpredict_classes\u001b[0m\u001b[1;33m(\u001b[0m\u001b[0mX_cv\u001b[0m\u001b[1;33m)\u001b[0m\u001b[1;33m,\u001b[0m \u001b[0my_cv\u001b[0m\u001b[1;33m)\u001b[0m\u001b[1;33m\u001b[0m\u001b[1;33m\u001b[0m\u001b[0m\n\u001b[0;32m      3\u001b[0m \u001b[0mtest_acc\u001b[0m \u001b[1;33m=\u001b[0m \u001b[0maccuracy_score\u001b[0m\u001b[1;33m(\u001b[0m\u001b[0mmodel\u001b[0m\u001b[1;33m.\u001b[0m\u001b[0mpredict_classes\u001b[0m\u001b[1;33m(\u001b[0m\u001b[0mX_test\u001b[0m\u001b[1;33m)\u001b[0m\u001b[1;33m,\u001b[0m \u001b[0my_test\u001b[0m\u001b[1;33m)\u001b[0m\u001b[1;33m\u001b[0m\u001b[1;33m\u001b[0m\u001b[0m\n\u001b[0;32m      4\u001b[0m \u001b[0mprint\u001b[0m\u001b[1;33m(\u001b[0m\u001b[1;34m\"The final train accuracy is \"\u001b[0m\u001b[1;33m,\u001b[0m\u001b[0mtrain_acc\u001b[0m\u001b[1;33m*\u001b[0m\u001b[1;36m100\u001b[0m\u001b[1;33m,\u001b[0m\u001b[1;34m\"%\"\u001b[0m\u001b[1;33m)\u001b[0m\u001b[1;33m\u001b[0m\u001b[1;33m\u001b[0m\u001b[0m\n\u001b[0;32m      5\u001b[0m \u001b[0mprint\u001b[0m\u001b[1;33m(\u001b[0m\u001b[1;34m\"The final validation accuracy is \"\u001b[0m\u001b[1;33m,\u001b[0m\u001b[0mvalid_acc\u001b[0m\u001b[1;33m*\u001b[0m\u001b[1;36m100\u001b[0m\u001b[1;33m,\u001b[0m\u001b[1;34m\"%\"\u001b[0m\u001b[1;33m)\u001b[0m\u001b[1;33m\u001b[0m\u001b[1;33m\u001b[0m\u001b[0m\n",
      "\u001b[1;32m~\\AppData\\Roaming\\Python\\Python36\\site-packages\\tensorflow\\python\\keras\\engine\\sequential.py\u001b[0m in \u001b[0;36mpredict_classes\u001b[1;34m(self, x, batch_size, verbose)\u001b[0m\n\u001b[0;32m    309\u001b[0m         \u001b[0mA\u001b[0m \u001b[0mnumpy\u001b[0m \u001b[0marray\u001b[0m \u001b[0mof\u001b[0m \u001b[1;32mclass\u001b[0m \u001b[0mpredictions\u001b[0m\u001b[1;33m.\u001b[0m\u001b[1;33m\u001b[0m\u001b[1;33m\u001b[0m\u001b[0m\n\u001b[0;32m    310\u001b[0m     \"\"\"\n\u001b[1;32m--> 311\u001b[1;33m     \u001b[0mproba\u001b[0m \u001b[1;33m=\u001b[0m \u001b[0mself\u001b[0m\u001b[1;33m.\u001b[0m\u001b[0mpredict\u001b[0m\u001b[1;33m(\u001b[0m\u001b[0mx\u001b[0m\u001b[1;33m,\u001b[0m \u001b[0mbatch_size\u001b[0m\u001b[1;33m=\u001b[0m\u001b[0mbatch_size\u001b[0m\u001b[1;33m,\u001b[0m \u001b[0mverbose\u001b[0m\u001b[1;33m=\u001b[0m\u001b[0mverbose\u001b[0m\u001b[1;33m)\u001b[0m\u001b[1;33m\u001b[0m\u001b[1;33m\u001b[0m\u001b[0m\n\u001b[0m\u001b[0;32m    312\u001b[0m     \u001b[1;32mif\u001b[0m \u001b[0mproba\u001b[0m\u001b[1;33m.\u001b[0m\u001b[0mshape\u001b[0m\u001b[1;33m[\u001b[0m\u001b[1;33m-\u001b[0m\u001b[1;36m1\u001b[0m\u001b[1;33m]\u001b[0m \u001b[1;33m>\u001b[0m \u001b[1;36m1\u001b[0m\u001b[1;33m:\u001b[0m\u001b[1;33m\u001b[0m\u001b[1;33m\u001b[0m\u001b[0m\n\u001b[0;32m    313\u001b[0m       \u001b[1;32mreturn\u001b[0m \u001b[0mproba\u001b[0m\u001b[1;33m.\u001b[0m\u001b[0margmax\u001b[0m\u001b[1;33m(\u001b[0m\u001b[0maxis\u001b[0m\u001b[1;33m=\u001b[0m\u001b[1;33m-\u001b[0m\u001b[1;36m1\u001b[0m\u001b[1;33m)\u001b[0m\u001b[1;33m\u001b[0m\u001b[1;33m\u001b[0m\u001b[0m\n",
      "\u001b[1;32m~\\AppData\\Roaming\\Python\\Python36\\site-packages\\tensorflow\\python\\keras\\engine\\training.py\u001b[0m in \u001b[0;36mpredict\u001b[1;34m(self, x, batch_size, verbose, steps, max_queue_size, workers, use_multiprocessing)\u001b[0m\n\u001b[0;32m   1111\u001b[0m     \u001b[1;32melse\u001b[0m\u001b[1;33m:\u001b[0m\u001b[1;33m\u001b[0m\u001b[1;33m\u001b[0m\u001b[0m\n\u001b[0;32m   1112\u001b[0m       return training_arrays.predict_loop(\n\u001b[1;32m-> 1113\u001b[1;33m           self, x, batch_size=batch_size, verbose=verbose, steps=steps)\n\u001b[0m\u001b[0;32m   1114\u001b[0m \u001b[1;33m\u001b[0m\u001b[0m\n\u001b[0;32m   1115\u001b[0m   \u001b[1;32mdef\u001b[0m \u001b[0mreset_metrics\u001b[0m\u001b[1;33m(\u001b[0m\u001b[0mself\u001b[0m\u001b[1;33m)\u001b[0m\u001b[1;33m:\u001b[0m\u001b[1;33m\u001b[0m\u001b[1;33m\u001b[0m\u001b[0m\n",
      "\u001b[1;32m~\\AppData\\Roaming\\Python\\Python36\\site-packages\\tensorflow\\python\\keras\\engine\\training_arrays.py\u001b[0m in \u001b[0;36mmodel_iteration\u001b[1;34m(model, inputs, targets, sample_weights, batch_size, epochs, verbose, callbacks, val_inputs, val_targets, val_sample_weights, shuffle, initial_epoch, steps_per_epoch, validation_steps, mode, validation_in_fit, **kwargs)\u001b[0m\n\u001b[0;32m    327\u001b[0m \u001b[1;33m\u001b[0m\u001b[0m\n\u001b[0;32m    328\u001b[0m         \u001b[1;31m# Get outputs.\u001b[0m\u001b[1;33m\u001b[0m\u001b[1;33m\u001b[0m\u001b[1;33m\u001b[0m\u001b[0m\n\u001b[1;32m--> 329\u001b[1;33m         \u001b[0mbatch_outs\u001b[0m \u001b[1;33m=\u001b[0m \u001b[0mf\u001b[0m\u001b[1;33m(\u001b[0m\u001b[0mins_batch\u001b[0m\u001b[1;33m)\u001b[0m\u001b[1;33m\u001b[0m\u001b[1;33m\u001b[0m\u001b[0m\n\u001b[0m\u001b[0;32m    330\u001b[0m         \u001b[1;32mif\u001b[0m \u001b[1;32mnot\u001b[0m \u001b[0misinstance\u001b[0m\u001b[1;33m(\u001b[0m\u001b[0mbatch_outs\u001b[0m\u001b[1;33m,\u001b[0m \u001b[0mlist\u001b[0m\u001b[1;33m)\u001b[0m\u001b[1;33m:\u001b[0m\u001b[1;33m\u001b[0m\u001b[1;33m\u001b[0m\u001b[0m\n\u001b[0;32m    331\u001b[0m           \u001b[0mbatch_outs\u001b[0m \u001b[1;33m=\u001b[0m \u001b[1;33m[\u001b[0m\u001b[0mbatch_outs\u001b[0m\u001b[1;33m]\u001b[0m\u001b[1;33m\u001b[0m\u001b[1;33m\u001b[0m\u001b[0m\n",
      "\u001b[1;32m~\\AppData\\Roaming\\Python\\Python36\\site-packages\\tensorflow\\python\\keras\\backend.py\u001b[0m in \u001b[0;36m__call__\u001b[1;34m(self, inputs)\u001b[0m\n\u001b[0;32m   3074\u001b[0m \u001b[1;33m\u001b[0m\u001b[0m\n\u001b[0;32m   3075\u001b[0m     fetched = self._callable_fn(*array_vals,\n\u001b[1;32m-> 3076\u001b[1;33m                                 run_metadata=self.run_metadata)\n\u001b[0m\u001b[0;32m   3077\u001b[0m     \u001b[0mself\u001b[0m\u001b[1;33m.\u001b[0m\u001b[0m_call_fetch_callbacks\u001b[0m\u001b[1;33m(\u001b[0m\u001b[0mfetched\u001b[0m\u001b[1;33m[\u001b[0m\u001b[1;33m-\u001b[0m\u001b[0mlen\u001b[0m\u001b[1;33m(\u001b[0m\u001b[0mself\u001b[0m\u001b[1;33m.\u001b[0m\u001b[0m_fetches\u001b[0m\u001b[1;33m)\u001b[0m\u001b[1;33m:\u001b[0m\u001b[1;33m]\u001b[0m\u001b[1;33m)\u001b[0m\u001b[1;33m\u001b[0m\u001b[1;33m\u001b[0m\u001b[0m\n\u001b[0;32m   3078\u001b[0m     return nest.pack_sequence_as(self._outputs_structure,\n",
      "\u001b[1;32m~\\AppData\\Roaming\\Python\\Python36\\site-packages\\tensorflow\\python\\client\\session.py\u001b[0m in \u001b[0;36m__call__\u001b[1;34m(self, *args, **kwargs)\u001b[0m\n\u001b[0;32m   1437\u001b[0m           ret = tf_session.TF_SessionRunCallable(\n\u001b[0;32m   1438\u001b[0m               \u001b[0mself\u001b[0m\u001b[1;33m.\u001b[0m\u001b[0m_session\u001b[0m\u001b[1;33m.\u001b[0m\u001b[0m_session\u001b[0m\u001b[1;33m,\u001b[0m \u001b[0mself\u001b[0m\u001b[1;33m.\u001b[0m\u001b[0m_handle\u001b[0m\u001b[1;33m,\u001b[0m \u001b[0margs\u001b[0m\u001b[1;33m,\u001b[0m \u001b[0mstatus\u001b[0m\u001b[1;33m,\u001b[0m\u001b[1;33m\u001b[0m\u001b[1;33m\u001b[0m\u001b[0m\n\u001b[1;32m-> 1439\u001b[1;33m               run_metadata_ptr)\n\u001b[0m\u001b[0;32m   1440\u001b[0m         \u001b[1;32mif\u001b[0m \u001b[0mrun_metadata\u001b[0m\u001b[1;33m:\u001b[0m\u001b[1;33m\u001b[0m\u001b[1;33m\u001b[0m\u001b[0m\n\u001b[0;32m   1441\u001b[0m           \u001b[0mproto_data\u001b[0m \u001b[1;33m=\u001b[0m \u001b[0mtf_session\u001b[0m\u001b[1;33m.\u001b[0m\u001b[0mTF_GetBuffer\u001b[0m\u001b[1;33m(\u001b[0m\u001b[0mrun_metadata_ptr\u001b[0m\u001b[1;33m)\u001b[0m\u001b[1;33m\u001b[0m\u001b[1;33m\u001b[0m\u001b[0m\n",
      "\u001b[1;31mKeyboardInterrupt\u001b[0m: "
     ]
    }
   ],
   "source": [
    "train_acc = accuracy_score(model.predict_classes(X_train), y_train)\n",
    "valid_acc = accuracy_score(model.predict_classes(X_cv), y_cv)\n",
    "test_acc = accuracy_score(model.predict_classes(X_test), y_test)\n",
    "print(\"The final train accuracy is \",train_acc*100,\"%\")\n",
    "print(\"The final validation accuracy is \",valid_acc*100,\"%\")\n",
    "print(\"The final test accuracy is \",test_acc*100,\"%\")"
   ]
  },
  {
   "cell_type": "markdown",
   "metadata": {},
   "source": [
    "##### Binary prediction"
   ]
  },
  {
   "cell_type": "code",
   "execution_count": null,
   "metadata": {},
   "outputs": [],
   "source": [
    "train_acc = accuracy_score((model.predict(X_train)>0.5).astype(int), y_train)\n",
    "valid_acc = accuracy_score((model.predict(X_cv)>0.5).astype(int), y_cv)\n",
    "test_acc = accuracy_score((model.predict(X_test)>0.5).astype(int), y_test)\n",
    "print(\"The final train accuracy is \",train_acc*100,\"%\")\n",
    "print(\"The final validation accuracy is \",valid_acc*100,\"%\")\n",
    "print(\"The final test accuracy is \",test_acc*100,\"%\")"
   ]
  },
  {
   "cell_type": "markdown",
   "metadata": {},
   "source": [
    "#### Covid accuracy"
   ]
  },
  {
   "cell_type": "code",
   "execution_count": 59,
   "metadata": {},
   "outputs": [
    {
     "name": "stdout",
     "output_type": "stream",
     "text": [
      "The final test accuracy for COVID-19 is  93.93939393939394 %\n"
     ]
    }
   ],
   "source": [
    "X_covid = X_test[y_test == 0]\n",
    "y_covid = y_test[y_test == 0]\n",
    "test_acc = accuracy_score(model.predict_classes(X_covid), y_covid)\n",
    "print(\"The final test accuracy for COVID-19 is \",test_acc*100,\"%\")"
   ]
  },
  {
   "cell_type": "code",
   "execution_count": 60,
   "metadata": {},
   "outputs": [
    {
     "name": "stdout",
     "output_type": "stream",
     "text": [
      "The final test accuracy for NORMAL is  95.52238805970148 %\n"
     ]
    }
   ],
   "source": [
    "X_normal = X_test[y_test == 1]\n",
    "y_normal = y_test[y_test == 1]\n",
    "test_acc = accuracy_score(model.predict_classes(X_normal), y_normal)\n",
    "print(\"The final test accuracy for NORMAL is \",test_acc*100,\"%\")"
   ]
  },
  {
   "cell_type": "code",
   "execution_count": 61,
   "metadata": {},
   "outputs": [
    {
     "name": "stdout",
     "output_type": "stream",
     "text": [
      "The final test accuracy for PNEUMONIA is  95.54455445544554 %\n"
     ]
    }
   ],
   "source": [
    "X_pneumonia = X_test[y_test == 2]\n",
    "y_pneumonia = y_test[y_test == 2]\n",
    "test_acc = accuracy_score(model.predict_classes(X_pneumonia), y_pneumonia)\n",
    "print(\"The final test accuracy for PNEUMONIA is \",test_acc*100,\"%\")"
   ]
  },
  {
   "cell_type": "markdown",
   "metadata": {},
   "source": [
    "#### Reading other database to test"
   ]
  },
  {
   "cell_type": "code",
   "execution_count": 79,
   "metadata": {},
   "outputs": [],
   "source": [
    "dir_data_extra = dir_covid + '/Extra COVID-19'"
   ]
  },
  {
   "cell_type": "code",
   "execution_count": 87,
   "metadata": {},
   "outputs": [],
   "source": [
    "#Reading Image data and converting it into pixels and separating class labels\n",
    "Data_ext=[]\n",
    "Label_ext=[]\n",
    "images = os.listdir(dir_data_extra)\n",
    "for imag in images:\n",
    "    Label_ext.append(0)\n",
    "    filename=os.path.join(dir_data_extra, imag)\n",
    "    im=image.load_img(filename,target_size=(224, 224))\n",
    "    im=np.reshape(im,(224,224,3))\n",
    "    im=im.astype('float32') / 255\n",
    "    Data_ext.append(im)\n",
    "    \n",
    "Data_ext = np.array(Data_ext)\n",
    "Label_ext = np.array(Label_ext)"
   ]
  },
  {
   "cell_type": "code",
   "execution_count": 88,
   "metadata": {},
   "outputs": [],
   "source": [
    "img_width=224\n",
    "img_height=224\n",
    "\n",
    "from keras import backend as K\n",
    "\n",
    "if K.image_data_format() == 'channels_first':\n",
    "    input_shape = (3, img_width, img_height)\n",
    "    X_extra=Data_ext.reshape(Data_ext.shape[0],3,img_width,img_height)\n",
    "    \n",
    "else:\n",
    "    input_shape = (img_width, img_height, 3)\n",
    "    X_extra=Data_ext.reshape(Data_ext.shape[0],img_width,img_height,3)\n",
    "\n",
    "y_extra = Label_ext\n",
    "del Data_ext"
   ]
  },
  {
   "cell_type": "code",
   "execution_count": 89,
   "metadata": {},
   "outputs": [
    {
     "name": "stdout",
     "output_type": "stream",
     "text": [
      "The final test accuracy for COVID-19 is  90.47619047619048 %\n"
     ]
    }
   ],
   "source": [
    "test_acc = accuracy_score(model.predict_classes(X_extra), y_extra)\n",
    "print(\"The final test accuracy for COVID-19 is \",test_acc*100,\"%\")"
   ]
  },
  {
   "cell_type": "code",
   "execution_count": null,
   "metadata": {},
   "outputs": [],
   "source": []
  }
 ],
 "metadata": {
  "kernelspec": {
   "display_name": "Python 3",
   "language": "python",
   "name": "python3"
  },
  "language_info": {
   "codemirror_mode": {
    "name": "ipython",
    "version": 3
   },
   "file_extension": ".py",
   "mimetype": "text/x-python",
   "name": "python",
   "nbconvert_exporter": "python",
   "pygments_lexer": "ipython3",
   "version": "3.6.7"
  }
 },
 "nbformat": 4,
 "nbformat_minor": 2
}
